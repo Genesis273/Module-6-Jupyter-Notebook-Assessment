{
 "cells": [
  {
   "cell_type": "markdown",
   "id": "b0023dec-3e1a-4ac3-85c2-1540f38ef48c",
   "metadata": {},
   "source": [
    "## Data Science Tools and Ecosystem"
   ]
  },
  {
   "cell_type": "markdown",
   "id": "430bd1e2-6603-4038-aceb-c6e40165033d",
   "metadata": {},
   "source": [
    "In this notebook, Data Science Tools and Ecosystem are summarized."
   ]
  },
  {
   "cell_type": "markdown",
   "id": "ab61e811-a667-47ef-8b0e-d4afbe23722b",
   "metadata": {},
   "source": [
    "Some of the popular languages that Data Scientists use are:\n",
    "    \n",
    "    1.Python\n",
    "    2.R\n",
    "    3.SQL"
   ]
  },
  {
   "cell_type": "markdown",
   "id": "9730789c-01e3-4b51-be3d-889d680a3f1c",
   "metadata": {},
   "source": [
    "Some of the commonly used libraries used by Data Scientists are:\n",
    "    \n",
    "    1.NumPy\n",
    "    2.Matplotlib\n",
    "    3.Scikit-learn"
   ]
  },
  {
   "cell_type": "markdown",
   "id": "cf3d95ef-fcc1-4e6c-ba46-ac6e0094b47e",
   "metadata": {},
   "source": [
    "Data Science Tools| \n",
    "| ------ | \n",
    "| MySQL | \n",
    "| Apache Spark | \n",
    "| PostgreSQL | \n"
   ]
  },
  {
   "cell_type": "markdown",
   "id": "fcf47efa-09d5-49a5-8439-20cffe43a5c7",
   "metadata": {},
   "source": [
    "#### Below are a few examples of evaluating arithmetic expressions in Python."
   ]
  },
  {
   "cell_type": "markdown",
   "id": "2439b335-28d8-4897-9ac5-c18166748bb2",
   "metadata": {},
   "source": [
    "This a simple arithmetic expression to mutiply then add integers"
   ]
  },
  {
   "cell_type": "code",
   "execution_count": 4,
   "id": "e4a2ebcb-94a3-4a55-a6be-7179cc6da72d",
   "metadata": {},
   "outputs": [
    {
     "data": {
      "text/plain": [
       "17"
      ]
     },
     "execution_count": 4,
     "metadata": {},
     "output_type": "execute_result"
    }
   ],
   "source": [
    "(3*4)+5"
   ]
  },
  {
   "cell_type": "markdown",
   "id": "a1258bb1-e187-46cc-9b6d-069188af034c",
   "metadata": {},
   "source": [
    "This will convert 200 minutes to hours by diving by 60"
   ]
  },
  {
   "cell_type": "code",
   "execution_count": 3,
   "id": "cc26d866-53e5-45e4-9b0e-8d9a8e5400aa",
   "metadata": {},
   "outputs": [
    {
     "data": {
      "text/plain": [
       "3.3333333333333335"
      ]
     },
     "execution_count": 3,
     "metadata": {},
     "output_type": "execute_result"
    }
   ],
   "source": [
    "200/60"
   ]
  },
  {
   "cell_type": "markdown",
   "id": "24dbffdc-4cfa-46b8-a410-c2e8bb29f4df",
   "metadata": {},
   "source": [
    "__Objectives:__\n",
    "List popular languages for Data Science\n",
    "\n",
    "* Python\n",
    "* R\n",
    "* SQL"
   ]
  },
  {
   "cell_type": "markdown",
   "id": "f1e5953b-76c8-4c33-a57d-e589538c4085",
   "metadata": {},
   "source": [
    "### Author\n",
    "David Bell"
   ]
  },
  {
   "cell_type": "code",
   "execution_count": null,
   "id": "224bc3a5-aab7-44ae-9f0f-7812eb12b57d",
   "metadata": {},
   "outputs": [],
   "source": []
  }
 ],
 "metadata": {
  "kernelspec": {
   "display_name": "Python",
   "language": "python",
   "name": "conda-env-python-py"
  },
  "language_info": {
   "codemirror_mode": {
    "name": "ipython",
    "version": 3
   },
   "file_extension": ".py",
   "mimetype": "text/x-python",
   "name": "python",
   "nbconvert_exporter": "python",
   "pygments_lexer": "ipython3",
   "version": "3.7.12"
  }
 },
 "nbformat": 4,
 "nbformat_minor": 5
}
